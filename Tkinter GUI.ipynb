{
 "cells": [
  {
   "cell_type": "markdown",
   "id": "temporal-print",
   "metadata": {},
   "source": [
    "# importing tkinter"
   ]
  },
  {
   "cell_type": "code",
   "execution_count": 1,
   "id": "deluxe-debate",
   "metadata": {},
   "outputs": [],
   "source": [
    "import tkinter as tk"
   ]
  },
  {
   "cell_type": "markdown",
   "id": "gentle-country",
   "metadata": {},
   "source": [
    "# Intializing a GUI"
   ]
  },
  {
   "cell_type": "code",
   "execution_count": null,
   "id": "69b9e3b4",
   "metadata": {},
   "outputs": [],
   "source": [
    "import tkinter as tk\n",
    "\n",
    "calc=tk.Tk()\n",
    "\n",
    "#adding title\n",
    "calc.title(\"calculator\")\n",
    "\n",
    "#specifing size\n",
    "calc.geometry('400x400')\n",
    "\n",
    "#background colour\n",
    "calc.configure(bg='cyan')\n",
    "\n",
    "#transparent background\n",
    "calc.attributes(\"-alpha\",0.9)\n",
    "\n",
    "calc.mainloop()"
   ]
  },
  {
   "cell_type": "markdown",
   "id": "narrow-delivery",
   "metadata": {},
   "source": [
    "# Lable (Place with Pack Horizontally)"
   ]
  },
  {
   "cell_type": "code",
   "execution_count": 4,
   "id": "e75605d8",
   "metadata": {},
   "outputs": [],
   "source": [
    "from tkinter import*\n",
    "\n",
    "data=Tk()\n",
    "data.geometry(\"300x120\")\n",
    "\n",
    "a=Label(data,text=\"User name\", fg=\"purple\", bg=\"yellow\")\n",
    "a.pack(fill=X)\n",
    "\n",
    "b=Label(data,text=\"contact number\",bg=\"green\",fg=\"white\")\n",
    "b.pack(fill=X)\n",
    "\n",
    "data.mainloop()"
   ]
  },
  {
   "cell_type": "markdown",
   "id": "standard-muscle",
   "metadata": {},
   "source": [
    "# Entry Box (Place with Pack Vertically)"
   ]
  },
  {
   "cell_type": "code",
   "execution_count": 5,
   "id": "promising-boutique",
   "metadata": {},
   "outputs": [],
   "source": [
    "from tkinter import*\n",
    "\n",
    "data=Tk()\n",
    "data.geometry(\"300x120\")\n",
    "\n",
    "name = tk.StringVar()\n",
    "c=Entry(data, bg=\"pink\", width =12, textvariable=name)\n",
    "c.pack(fill=Y)\n",
    "\n",
    "a=Entry(data,bd=5)\n",
    "a.pack(fill=Y)\n",
    "\n",
    "data.mainloop()"
   ]
  },
  {
   "cell_type": "markdown",
   "id": "periodic-receptor",
   "metadata": {},
   "source": [
    "# Button with Command (Place with Pack and Side)"
   ]
  },
  {
   "cell_type": "code",
   "execution_count": 8,
   "id": "a86ca6f3",
   "metadata": {},
   "outputs": [],
   "source": [
    "from tkinter import*\n",
    "\n",
    "win=Tk()\n",
    "win.title(\"button\")\n",
    "win.geometry(\"300x120\")\n",
    "\n",
    "def info():\n",
    "    print(\"Please type your name\")\n",
    "    \n",
    "def contact():\n",
    "    print(\"Please type your contact number\")\n",
    "    \n",
    "a=Button(win,text=\"User name\",bg=\"pink\",fg=\"black\",command=info)\n",
    "a.pack(fill=X,side=LEFT)\n",
    "a=Button(win,text=\"contact number\",bg=\"yellow\",fg=\"red\",command=contact)\n",
    "a.pack(fill=X,side=BOTTOM)\n",
    "\n",
    "win.mainloop()"
   ]
  },
  {
   "cell_type": "markdown",
   "id": "athletic-sydney",
   "metadata": {},
   "source": [
    "# Radio Button (Place with Pack)\n",
    "#Anchor defining the postition of West (check readme file)"
   ]
  },
  {
   "cell_type": "code",
   "execution_count": 9,
   "id": "9375fba4",
   "metadata": {},
   "outputs": [],
   "source": [
    "import  tkinter as tk\n",
    "from tkinter import *\n",
    "\n",
    "root=tk.Tk()\n",
    "\n",
    "tk.Label(root,text=\"Choose any one programming language\",justify=tk.LEFT,padx=20).pack()\n",
    "\n",
    "v=IntVar()\n",
    "tk.Radiobutton(root,text=\"Python\",padx=20,variable=v,value=1).pack(anchor=tk.W)\n",
    "tk.Radiobutton(root,text=\"Java\",padx=20,variable=v,value=2).pack(anchor=tk.W)\n",
    "\n",
    "root.mainloop()"
   ]
  },
  {
   "cell_type": "markdown",
   "id": "arranged-treat",
   "metadata": {},
   "source": [
    "# Check Button (Place with Grid)\n",
    "#- with select, deselect and disable functions"
   ]
  },
  {
   "cell_type": "code",
   "execution_count": 16,
   "id": "coated-feeding",
   "metadata": {},
   "outputs": [],
   "source": [
    "import tkinter as tk\n",
    "from tkinter import*\n",
    "\n",
    "master=Tk()\n",
    "master.geometry(\"300x120\")\n",
    "\n",
    "a = Label(master,text=\"Choose any one gift\",justify=tk.LEFT,padx=20).grid(row=0)\n",
    "\n",
    "var1=IntVar()\n",
    "check1=Checkbutton(master,text=\"bags\",variable=var1)\n",
    "check1.select()\n",
    "check1.grid(row=1, column = 0)\n",
    "\n",
    "var2=IntVar()\n",
    "check2=Checkbutton(master,text=\"shoes\",variable=var2, state=\"disable\")\n",
    "check2.deselect()\n",
    "check2.grid(row=2, column = 0)\n",
    "\n",
    "mainloop()"
   ]
  },
  {
   "cell_type": "markdown",
   "id": "stunning-republican",
   "metadata": {},
   "source": [
    "# Scrolltext (Place with Grid)\n",
    "#wrap text\n",
    "#columnspan"
   ]
  },
  {
   "cell_type": "code",
   "execution_count": 17,
   "id": "ultimate-single",
   "metadata": {},
   "outputs": [],
   "source": [
    "import tkinter as tk\n",
    "from tkinter import*\n",
    "from tkinter import scrolledtext\n",
    "\n",
    "master=Tk()\n",
    "master.geometry(\"300x120\")\n",
    "\n",
    "#using scrolled text control\n",
    "scroll_w = 30\n",
    "scroll_h = 3\n",
    "scr = scrolledtext.ScrolledText(master, width=scroll_w, height=scroll_h, wrap=tk.WORD)\n",
    "scr.grid(row = 3, columnspan=3)\n",
    "\n",
    "master.mainloop()"
   ]
  },
  {
   "cell_type": "markdown",
   "id": "expensive-secretary",
   "metadata": {},
   "source": [
    "# Combo Box/ List Box (Place with Grid)"
   ]
  },
  {
   "cell_type": "code",
   "execution_count": 19,
   "id": "decent-missouri",
   "metadata": {},
   "outputs": [],
   "source": [
    "import tkinter as tk\n",
    "from tkinter import ttk\n",
    "from tkinter import*\n",
    "\n",
    "win=Tk()\n",
    "\n",
    "number=tk.StringVar()\n",
    "number_choosen=ttk.Combobox(win,width=12,textvariable=number)\n",
    "number_choosen['value']=[0,1,2,3,4,5,6,7,8,9,10]\n",
    "number_choosen.grid(column=1,row=2)\n",
    "number_choosen.current(0)\n",
    "\n",
    "win.mainloop()"
   ]
  },
  {
   "cell_type": "markdown",
   "id": "attractive-reader",
   "metadata": {},
   "source": [
    "# Simple Hello Game - Game 1"
   ]
  },
  {
   "cell_type": "code",
   "execution_count": 20,
   "id": "81e456de",
   "metadata": {},
   "outputs": [
    {
     "name": "stderr",
     "output_type": "stream",
     "text": [
      "Exception in Tkinter callback\n",
      "Traceback (most recent call last):\n",
      "  File \"c:\\users\\tls\\appdata\\local\\programs\\python\\python38\\lib\\tkinter\\__init__.py\", line 1895, in __call__\n",
      "    return self.func(*args)\n",
      "  File \"<ipython-input-20-42d0b3ea0cbe>\", line 15, in click_me\n",
      "    a.configure(text=\"hello\")\n",
      "AttributeError: 'NoneType' object has no attribute 'configure'\n"
     ]
    }
   ],
   "source": [
    "import tkinter as tk\n",
    "from tkinter import ttk\n",
    "from tkinter import*\n",
    "\n",
    "win=Tk()\n",
    "\n",
    "#Entry Box\n",
    "name=tk.StringVar()\n",
    "name_entered=tk.Entry(win,width=12, textvariable=name)\n",
    "name_entered.grid(column=0,row=2)\n",
    "\n",
    "#Button with Command\n",
    "def click_me():\n",
    "    btn.configure(text=\"hey\"+' '+name.get()+' '+number_choosen.get())\n",
    "    a.configure(text=\"hello\")\n",
    "    \n",
    "btn=tk.Button(win, text=\"click me\", bg=\"cyan\",fg=\"red\",command=click_me)\n",
    "btn.grid(column=2,row=2)\n",
    "\n",
    "#Lable\n",
    "a=tk.Label(win,text=\"enter a name\").grid(column=0,row=1)\n",
    "b=tk.Label(win,text=\"choose a number\").grid(column=1,row=1)\n",
    "\n",
    "#Combo Box/List Box\n",
    "number=tk.StringVar()\n",
    "number_choosen=ttk.Combobox(win,width=12,textvariable=number)\n",
    "number_choosen['value']=[0,1,2,3,4,5,6,7,8,9,10]\n",
    "number_choosen.grid(column=1,row=2)\n",
    "number_choosen.current(0)\n",
    "name_entered.focus_set()\n",
    "\n",
    "win.mainloop()\n",
    "\n"
   ]
  },
  {
   "cell_type": "markdown",
   "id": "formal-popularity",
   "metadata": {},
   "source": [
    "# Number Guessing Game - Game 2\n",
    "#with font properties"
   ]
  },
  {
   "cell_type": "code",
   "execution_count": 21,
   "id": "b913c003",
   "metadata": {},
   "outputs": [],
   "source": [
    "import tkinter as tk\n",
    "from tkinter import *\n",
    "\n",
    "guess=tk.Tk()\n",
    "guess.title(\"Number guessing Game\")\n",
    "guess.geometry('400x400')\n",
    "guess.configure(bg='green')\n",
    "\n",
    "def click_me1():\n",
    "    btn1.configure(text=\"You Loose\")\n",
    "    btn1.configure(bg=\"red\")\n",
    "    mylable.configure(text=\"1\")\n",
    "    \n",
    "def click_me2():\n",
    "    btn2.configure(text=\"You Win\")\n",
    "    btn2.configure(bg=\"white\")\n",
    "    mylable.configure(text=\"10\")\n",
    "    \n",
    "def click_me3():\n",
    "    btn3.configure(text=\"You Loose\")\n",
    "    btn3.configure(bg=\"red\")\n",
    "    mylable.configure(text=\"100\")\n",
    "    \n",
    "def click_me4():\n",
    "    btn4.configure(text=\"You Loose\")\n",
    "    btn4.configure(bg=\"red\")\n",
    "    mylable.configure(text=\"1000\")\n",
    "\n",
    "#Lable\n",
    "mylable = tk.Label(guess, text=\"Guess the number 10\", fg=\"red\", bg=\"yellow\")\n",
    "mylable.grid(row=0, column=0)\n",
    "\n",
    "#Buttons\n",
    "btn1 = tk.Button(guess, text=\"Guess 10\", font=(\"arial\",18,\"bold\",\"italic\", \"underline\"), bg=\"cyan\", fg=\"blue\",command=click_me1)\n",
    "btn1.grid(row= 1, column=0)\n",
    "\n",
    "btn2 = tk.Button(guess, text=\"Guess 10\", font=(\"arial\",18, \"bold\"), bg=\"cyan\", fg=\"blue\",command=click_me2)\n",
    "btn2.grid(row= 2, column=0)\n",
    "\n",
    "btn3 = tk.Button(guess, text=\"Guess 10\", font=(\"arial\",18, \"bold\"), bg=\"cyan\", fg=\"blue\",command=click_me3)\n",
    "btn3.grid(row= 3, column=0)\n",
    "\n",
    "btn4 = tk.Button(guess, text=\"Guess 10\", bg=\"cyan\", fg=\"blue\",command=click_me4)\n",
    "btn4.grid(row= 4, column=0)\n",
    "\n",
    "guess.mainloop()"
   ]
  },
  {
   "cell_type": "code",
   "execution_count": null,
   "id": "positive-australian",
   "metadata": {},
   "outputs": [],
   "source": []
  }
 ],
 "metadata": {
  "kernelspec": {
   "display_name": "Python 3",
   "language": "python",
   "name": "python3"
  },
  "language_info": {
   "codemirror_mode": {
    "name": "ipython",
    "version": 3
   },
   "file_extension": ".py",
   "mimetype": "text/x-python",
   "name": "python",
   "nbconvert_exporter": "python",
   "pygments_lexer": "ipython3",
   "version": "3.8.7"
  }
 },
 "nbformat": 4,
 "nbformat_minor": 5
}
